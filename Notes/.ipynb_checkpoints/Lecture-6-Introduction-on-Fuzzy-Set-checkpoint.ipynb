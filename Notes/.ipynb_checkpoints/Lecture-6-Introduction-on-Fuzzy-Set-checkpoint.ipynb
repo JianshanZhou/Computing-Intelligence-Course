{
 "cells": [
  {
   "cell_type": "markdown",
   "metadata": {},
   "source": [
    "# 模糊集合的运算和性质\n",
    "\n",
    "Author：周建山 BY1613123\n",
    "\n",
    "Email：jianshanzhou@foxmail.com\n",
    "\n",
    "Web：https://github.com/JianshanZhou/Computing-Intelligence-Course.git\n",
    "\n",
    "和普通的集合（数学意义上）不同，模糊集合表示的是一种“模糊”概念的外延，普通集合的运算可以通过集合的特征函数来表述，类似的，模糊集合的运算可以通过隶属度函数来表述。其中，根据模糊集合的定义，其分别满足“幂等律”、“交换律”、“结合律”、“分配律”、“吸收律”、“复原律”、“对偶律”和“0-1律”，但是，并不满足“补余律”。下面举例子说明：\n",
    "\n",
    "## 模糊集合的例子\n",
    "\n",
    "我们可以利用“序偶法”、“Zadeh法”或者“向量法”来表示模糊集合，本报告中采用Zadeh法来表示模糊集合。\n",
    "根据模糊集合的定义，可以构造一个例子：给定论域$\\mathbb{U}=\\{1,2,3,4,5,6\\}$，其中某一个元素$x\\in\\mathbb{U}$隶属于模糊集合$A$，$A$表示“靠近整数4的数集”，$x$的隶属度函数$\\mu_{\\mathbf{A}}(x)$分别由下列表给出：\n",
    "\n",
    "|$x$  |1    |2    |3    |4    |5    |6    |\n",
    "|-----|-----|-----|-----|-----|-----|-----|\n",
    "|$\\mu_{\\mathbf{A}}(x)$|0.0  |0.2  |0.8  |1.0  |0.8  |0.2  |\n",
    "\n",
    "根据上述表格数据可依表示出模糊集合$\\mathbf{A}$：\n",
    "\n",
    "$$\\mathbf{A}=\\frac{0.0}{1}+\\frac{0.2}{2}+\\frac{0.8}{3}+\\frac{1.0}{4}+\\frac{0.8}{5}+\\frac{0.2}{6}$$\n",
    "\n",
    "为了验证模糊集合“不满足补余律”，进一步构造如下集合$\\mathbf{A}$的补集$\\mathbf{A}^c$。根据$\\mu_{\\mathbf{A}^c}(x)=1.0-\\mu_{\\mathbf{A}}(x),\\forall x\\in\\mathbb{U}$，得到：\n",
    "\n",
    "$$\\mathbf{A}^c=\\frac{1.0}{1}+\\frac{0.8}{2}+\\frac{0.2}{3}+\\frac{0.0}{4}+\\frac{0.2}{5}+\\frac{0.8}{6}$$\n",
    "\n",
    "根据模糊集合的“并”运算律有：\n",
    "\n",
    "$$\n",
    "\\begin{split}\n",
    "\\mathbf{A}\\bigcup\\mathbf{A}^c&=\\sum_{x=1}^{6}{\\frac{\\mu_{\\mathbf{A}}(x)\\bigvee\\mu_{\\mathbf{A}^c}(x)}{x}}\\\\\n",
    "&=\\frac{1.0}{1}+\\frac{0.8}{2}+\\frac{0.8}{3}+\\frac{1.0}{4}+\\frac{0.8}{5}+\\frac{0.8}{6}\n",
    "\\end{split}\n",
    "$$\n",
    "\n",
    "由此可见：$\\mathbf{A}\\bigcup\\mathbf{A}^c\\neq \\mathbb{U}$。\n",
    "\n",
    "另一方面，根据模糊集合的“交”运算有：\n",
    "\n",
    "$$\n",
    "\\begin{split}\n",
    "\\mathbf{A}\\bigcap\\mathbf{A}^c&=\\sum_{x=1}^{6}{\\frac{\\mu_{\\mathbf{A}}(x)\\bigwedge\\mu_{\\mathbf{A}^c}(x)}{x}}\\\\\n",
    "&=\\frac{0.0}{1}+\\frac{0.2}{2}+\\frac{0.2}{3}+\\frac{0.0}{4}+\\frac{0.2}{5}+\\frac{0.2}{6}\n",
    "\\end{split}\n",
    "$$\n",
    "\n",
    "由此可见：$\\mathbf{A}\\bigcap\\mathbf{A}^c\\neq \\emptyset$。\n",
    "\n",
    "根据上述运算示例的验证可知，在模糊集合运算意义下，不存在“补余律”。\n",
    "\n",
    "\n"
   ]
  },
  {
   "cell_type": "code",
   "execution_count": null,
   "metadata": {
    "collapsed": true
   },
   "outputs": [],
   "source": []
  }
 ],
 "metadata": {
  "kernelspec": {
   "display_name": "Python 2",
   "language": "python",
   "name": "python2"
  },
  "language_info": {
   "codemirror_mode": {
    "name": "ipython",
    "version": 2
   },
   "file_extension": ".py",
   "mimetype": "text/x-python",
   "name": "python",
   "nbconvert_exporter": "python",
   "pygments_lexer": "ipython2",
   "version": "2.7.12"
  }
 },
 "nbformat": 4,
 "nbformat_minor": 0
}
